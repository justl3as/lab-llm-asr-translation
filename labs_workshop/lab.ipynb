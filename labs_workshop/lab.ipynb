{
 "cells": [
  {
   "cell_type": "code",
   "execution_count": null,
   "metadata": {},
   "outputs": [],
   "source": [
    "import os\n",
    "\n",
    "from config.app_config import AppConfig\n",
    "from utils.subtitle import SRTFormatter\n",
    "from workflow.state import State\n",
    "from workflow.workflow_factory import WorkflowFactory"
   ]
  },
  {
   "cell_type": "code",
   "execution_count": null,
   "metadata": {},
   "outputs": [],
   "source": [
    "config = AppConfig()\n",
    "config.set_whisper_model(\"medium\")"
   ]
  },
  {
   "cell_type": "code",
   "execution_count": null,
   "metadata": {},
   "outputs": [],
   "source": [
    "graph = WorkflowFactory.transcribe_translate_workflow()"
   ]
  },
  {
   "cell_type": "code",
   "execution_count": null,
   "metadata": {},
   "outputs": [],
   "source": [
    "folder = \"\"\n",
    "file_name = \"4.mp4\"\n",
    "file_path = os.path.join(folder, file_name)\n",
    "file_name_only = os.path.splitext(file_name)[0]\n",
    "output_path = os.path.join(folder, file_name_only + \".srt\")"
   ]
  },
  {
   "cell_type": "code",
   "execution_count": null,
   "metadata": {},
   "outputs": [],
   "source": [
    "initial_state = State(video_path=file_path)\n",
    "result = graph.invoke(initial_state)\n",
    "for usage in result[\"token_usage\"].values():\n",
    "    print(usage)"
   ]
  },
  {
   "cell_type": "code",
   "execution_count": null,
   "metadata": {},
   "outputs": [],
   "source": [
    "translated_segments = result[\"metadata\"][\"translated_segments\"]\n",
    "srt_formatter = SRTFormatter()\n",
    "srt_formatter.format_and_save(translated_segments, output_path)"
   ]
  },
  {
   "cell_type": "code",
   "execution_count": null,
   "metadata": {},
   "outputs": [],
   "source": [
    "# import glob\n",
    "\n",
    "# folder = \"\"\n",
    "# batch_file = sorted(glob.glob(f\"{folder}*.mp4\"))\n",
    "# for file_path in batch_file:\n",
    "#     file_name = os.path.basename(file_path)\n",
    "#     file_name_only = os.path.splitext(file_name)[0]\n",
    "#     output_path = os.path.join(folder, file_name_only + \".srt\")\n",
    "#     initial_state = State(video_path=file_path)\n",
    "#     result = graph.invoke(initial_state)\n",
    "#     for usage in result[\"token_usage\"].values():\n",
    "#         print(usage)\n",
    "#     translated_segments = result[\"metadata\"][\"translated_segments\"]\n",
    "#     srt_formatter = SRTFormatter()\n",
    "#     srt_formatter.format_and_save(translated_segments, output_path)\n",
    "#     print(\"=\"*50)"
   ]
  }
 ],
 "metadata": {
  "kernelspec": {
   "display_name": ".venv",
   "language": "python",
   "name": "python3"
  },
  "language_info": {
   "codemirror_mode": {
    "name": "ipython",
    "version": 3
   },
   "file_extension": ".py",
   "mimetype": "text/x-python",
   "name": "python",
   "nbconvert_exporter": "python",
   "pygments_lexer": "ipython3",
   "version": "3.11.11"
  }
 },
 "nbformat": 4,
 "nbformat_minor": 2
}
